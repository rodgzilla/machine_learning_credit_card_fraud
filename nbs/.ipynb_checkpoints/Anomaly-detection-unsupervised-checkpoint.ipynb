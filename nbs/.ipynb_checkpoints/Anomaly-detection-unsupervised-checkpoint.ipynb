{
 "cells": [
  {
   "cell_type": "code",
   "execution_count": 1,
   "metadata": {
    "collapsed": true
   },
   "outputs": [],
   "source": [
    "%matplotlib inline\n",
    "import pickle\n",
    "import numpy             as np\n",
    "import pandas            as pd\n",
    "import matplotlib.pyplot as plt\n",
    "\n",
    "from sklearn.decomposition import PCA\n",
    "from sklearn.cluster       import KMeans"
   ]
  },
  {
   "cell_type": "code",
   "execution_count": 2,
   "metadata": {
    "collapsed": true
   },
   "outputs": [],
   "source": [
    "data_path    = '../data/'\n",
    "random_state = 142858"
   ]
  },
  {
   "cell_type": "code",
   "execution_count": 3,
   "metadata": {},
   "outputs": [
    {
     "data": {
      "text/html": [
       "<div>\n",
       "<style>\n",
       "    .dataframe thead tr:only-child th {\n",
       "        text-align: right;\n",
       "    }\n",
       "\n",
       "    .dataframe thead th {\n",
       "        text-align: left;\n",
       "    }\n",
       "\n",
       "    .dataframe tbody tr th {\n",
       "        vertical-align: top;\n",
       "    }\n",
       "</style>\n",
       "<table border=\"1\" class=\"dataframe\">\n",
       "  <thead>\n",
       "    <tr style=\"text-align: right;\">\n",
       "      <th></th>\n",
       "      <th>V1</th>\n",
       "      <th>V2</th>\n",
       "      <th>V3</th>\n",
       "      <th>V4</th>\n",
       "      <th>V5</th>\n",
       "      <th>V6</th>\n",
       "      <th>V7</th>\n",
       "      <th>V8</th>\n",
       "      <th>V9</th>\n",
       "      <th>V10</th>\n",
       "      <th>...</th>\n",
       "      <th>V21</th>\n",
       "      <th>V22</th>\n",
       "      <th>V23</th>\n",
       "      <th>V24</th>\n",
       "      <th>V25</th>\n",
       "      <th>V26</th>\n",
       "      <th>V27</th>\n",
       "      <th>V28</th>\n",
       "      <th>Amount</th>\n",
       "      <th>Class</th>\n",
       "    </tr>\n",
       "  </thead>\n",
       "  <tbody>\n",
       "    <tr>\n",
       "      <th>0</th>\n",
       "      <td>-0.694242</td>\n",
       "      <td>-0.044075</td>\n",
       "      <td>1.672773</td>\n",
       "      <td>0.973366</td>\n",
       "      <td>-0.245117</td>\n",
       "      <td>0.347068</td>\n",
       "      <td>0.193679</td>\n",
       "      <td>0.082637</td>\n",
       "      <td>0.331128</td>\n",
       "      <td>0.083386</td>\n",
       "      <td>...</td>\n",
       "      <td>-0.024923</td>\n",
       "      <td>0.382854</td>\n",
       "      <td>-0.176911</td>\n",
       "      <td>0.110507</td>\n",
       "      <td>0.246585</td>\n",
       "      <td>-0.392170</td>\n",
       "      <td>0.330892</td>\n",
       "      <td>-0.063781</td>\n",
       "      <td>0.244964</td>\n",
       "      <td>0</td>\n",
       "    </tr>\n",
       "    <tr>\n",
       "      <th>1</th>\n",
       "      <td>0.608496</td>\n",
       "      <td>0.161176</td>\n",
       "      <td>0.109797</td>\n",
       "      <td>0.316523</td>\n",
       "      <td>0.043483</td>\n",
       "      <td>-0.061820</td>\n",
       "      <td>-0.063700</td>\n",
       "      <td>0.071253</td>\n",
       "      <td>-0.232494</td>\n",
       "      <td>-0.153350</td>\n",
       "      <td>...</td>\n",
       "      <td>-0.307377</td>\n",
       "      <td>-0.880077</td>\n",
       "      <td>0.162201</td>\n",
       "      <td>-0.561131</td>\n",
       "      <td>0.320694</td>\n",
       "      <td>0.261069</td>\n",
       "      <td>-0.022256</td>\n",
       "      <td>0.044608</td>\n",
       "      <td>-0.342475</td>\n",
       "      <td>0</td>\n",
       "    </tr>\n",
       "    <tr>\n",
       "      <th>2</th>\n",
       "      <td>-0.693500</td>\n",
       "      <td>-0.811578</td>\n",
       "      <td>1.169468</td>\n",
       "      <td>0.268231</td>\n",
       "      <td>-0.364572</td>\n",
       "      <td>1.351454</td>\n",
       "      <td>0.639776</td>\n",
       "      <td>0.207373</td>\n",
       "      <td>-1.378675</td>\n",
       "      <td>0.190700</td>\n",
       "      <td>...</td>\n",
       "      <td>0.337632</td>\n",
       "      <td>1.063358</td>\n",
       "      <td>1.456320</td>\n",
       "      <td>-1.138092</td>\n",
       "      <td>-0.628537</td>\n",
       "      <td>-0.288447</td>\n",
       "      <td>-0.137137</td>\n",
       "      <td>-0.181021</td>\n",
       "      <td>1.160686</td>\n",
       "      <td>0</td>\n",
       "    </tr>\n",
       "    <tr>\n",
       "      <th>3</th>\n",
       "      <td>-0.493325</td>\n",
       "      <td>-0.112169</td>\n",
       "      <td>1.182516</td>\n",
       "      <td>-0.609727</td>\n",
       "      <td>-0.007469</td>\n",
       "      <td>0.936150</td>\n",
       "      <td>0.192071</td>\n",
       "      <td>0.316018</td>\n",
       "      <td>-1.262503</td>\n",
       "      <td>-0.050468</td>\n",
       "      <td>...</td>\n",
       "      <td>-0.147443</td>\n",
       "      <td>0.007267</td>\n",
       "      <td>-0.304777</td>\n",
       "      <td>-1.941027</td>\n",
       "      <td>1.241904</td>\n",
       "      <td>-0.460217</td>\n",
       "      <td>0.155396</td>\n",
       "      <td>0.186189</td>\n",
       "      <td>0.140534</td>\n",
       "      <td>0</td>\n",
       "    </tr>\n",
       "    <tr>\n",
       "      <th>4</th>\n",
       "      <td>-0.591330</td>\n",
       "      <td>0.531541</td>\n",
       "      <td>1.021412</td>\n",
       "      <td>0.284655</td>\n",
       "      <td>-0.295015</td>\n",
       "      <td>0.071999</td>\n",
       "      <td>0.479302</td>\n",
       "      <td>-0.226510</td>\n",
       "      <td>0.744326</td>\n",
       "      <td>0.691625</td>\n",
       "      <td>...</td>\n",
       "      <td>-0.012839</td>\n",
       "      <td>1.100011</td>\n",
       "      <td>-0.220123</td>\n",
       "      <td>0.233250</td>\n",
       "      <td>-0.395202</td>\n",
       "      <td>1.041611</td>\n",
       "      <td>0.543620</td>\n",
       "      <td>0.651816</td>\n",
       "      <td>-0.073403</td>\n",
       "      <td>0</td>\n",
       "    </tr>\n",
       "  </tbody>\n",
       "</table>\n",
       "<p>5 rows × 30 columns</p>\n",
       "</div>"
      ],
      "text/plain": [
       "         V1        V2        V3        V4        V5        V6        V7  \\\n",
       "0 -0.694242 -0.044075  1.672773  0.973366 -0.245117  0.347068  0.193679   \n",
       "1  0.608496  0.161176  0.109797  0.316523  0.043483 -0.061820 -0.063700   \n",
       "2 -0.693500 -0.811578  1.169468  0.268231 -0.364572  1.351454  0.639776   \n",
       "3 -0.493325 -0.112169  1.182516 -0.609727 -0.007469  0.936150  0.192071   \n",
       "4 -0.591330  0.531541  1.021412  0.284655 -0.295015  0.071999  0.479302   \n",
       "\n",
       "         V8        V9       V10  ...         V21       V22       V23  \\\n",
       "0  0.082637  0.331128  0.083386  ...   -0.024923  0.382854 -0.176911   \n",
       "1  0.071253 -0.232494 -0.153350  ...   -0.307377 -0.880077  0.162201   \n",
       "2  0.207373 -1.378675  0.190700  ...    0.337632  1.063358  1.456320   \n",
       "3  0.316018 -1.262503 -0.050468  ...   -0.147443  0.007267 -0.304777   \n",
       "4 -0.226510  0.744326  0.691625  ...   -0.012839  1.100011 -0.220123   \n",
       "\n",
       "        V24       V25       V26       V27       V28    Amount  Class  \n",
       "0  0.110507  0.246585 -0.392170  0.330892 -0.063781  0.244964      0  \n",
       "1 -0.561131  0.320694  0.261069 -0.022256  0.044608 -0.342475      0  \n",
       "2 -1.138092 -0.628537 -0.288447 -0.137137 -0.181021  1.160686      0  \n",
       "3 -1.941027  1.241904 -0.460217  0.155396  0.186189  0.140534      0  \n",
       "4  0.233250 -0.395202  1.041611  0.543620  0.651816 -0.073403      0  \n",
       "\n",
       "[5 rows x 30 columns]"
      ]
     },
     "execution_count": 3,
     "metadata": {},
     "output_type": "execute_result"
    }
   ],
   "source": [
    "df = pd.read_csv(data_path + 'standardized_credit_card.csv')\n",
    "df.head()"
   ]
  },
  {
   "cell_type": "code",
   "execution_count": 4,
   "metadata": {
    "collapsed": true
   },
   "outputs": [],
   "source": [
    "X = df.drop(['Class'], axis = 1)\n",
    "y = df.Class"
   ]
  },
  {
   "cell_type": "code",
   "execution_count": 5,
   "metadata": {},
   "outputs": [
    {
     "data": {
      "text/plain": [
       "(284807, 2)"
      ]
     },
     "execution_count": 5,
     "metadata": {},
     "output_type": "execute_result"
    }
   ],
   "source": [
    "pca = PCA(n_components = 2)\n",
    "pca.fit(X)\n",
    "X_trans = pca.transform(X)\n",
    "X_trans.shape"
   ]
  },
  {
   "cell_type": "code",
   "execution_count": 6,
   "metadata": {},
   "outputs": [
    {
     "data": {
      "text/plain": [
       "<matplotlib.collections.PathCollection at 0x7fa6388af630>"
      ]
     },
     "execution_count": 6,
     "metadata": {},
     "output_type": "execute_result"
    },
    {
     "data": {
      "image/png": "[encoded data removed]",
      "text/plain": [
       "<matplotlib.figure.Figure at 0x7fa63d6c8b70>"
      ]
     },
     "metadata": {},
     "output_type": "display_data"
    }
   ],
   "source": [
    "plt.scatter(X_trans[:, 0], X_trans[:, 1], c = y, alpha = 0.5, cmap = 'rainbow')"
   ]
  },
  {
   "cell_type": "code",
   "execution_count": 7,
   "metadata": {
    "collapsed": true
   },
   "outputs": [],
   "source": [
    "# kmeans = KMeans()\n",
    "# kmeans.fit(X)\n",
    "# clusters = kmeans.predict(X)"
   ]
  },
  {
   "cell_type": "code",
   "execution_count": 8,
   "metadata": {},
   "outputs": [],
   "source": [
    "# plt.scatter(X_trans[:, 0], X_trans[:, 1], c = clusters, alpha = 0.5, cmap = 'rainbow')"
   ]
  },
  {
   "cell_type": "code",
   "execution_count": 9,
   "metadata": {
    "collapsed": true
   },
   "outputs": [],
   "source": [
    "def various_clusterings(X, y, start_cluster_number, end_cluster_number):\n",
    "    for n_clusters in range(start_cluster_number, end_cluster_number + 1):\n",
    "        print('#########################################')\n",
    "        print(n_clusters, 'clusters')\n",
    "        kmeans   = KMeans(n_clusters = n_clusters)\n",
    "        clusters = kmeans.fit_predict(X)\n",
    "        for cluster_idx in range(n_clusters):\n",
    "            cluster_mask      = clusters == cluster_idx\n",
    "            target_in_cluster = y[cluster_mask]\n",
    "            fraud_proportion  = (target_in_cluster == 1).sum() / target_in_cluster.shape[0]\n",
    "            print('\\tCluster %d: %.4f of fraud on %d elements' % (cluster_idx, 100 * fraud_proportion, cluster_mask.sum()))"
   ]
  },
  {
   "cell_type": "code",
   "execution_count": 10,
   "metadata": {},
   "outputs": [
    {
     "name": "stdout",
     "output_type": "stream",
     "text": [
      "#########################################\n",
      "2 clusters\n",
      "\tCluster 0: 0.0337 of fraud on 41559 elements\n",
      "\tCluster 1: 0.1965 of fraud on 243248 elements\n",
      "#########################################\n",
      "3 clusters\n",
      "\tCluster 0: 0.1159 of fraud on 151017 elements\n",
      "\tCluster 1: 2.9339 of fraud on 5283 elements\n",
      "\tCluster 2: 0.1261 of fraud on 128507 elements\n",
      "#########################################\n",
      "4 clusters\n",
      "\tCluster 0: 0.1900 of fraud on 135249 elements\n",
      "\tCluster 1: 0.0779 of fraud on 124594 elements\n",
      "\tCluster 2: 0.6236 of fraud on 20205 elements\n",
      "\tCluster 3: 0.2522 of fraud on 4759 elements\n",
      "#########################################\n",
      "5 clusters\n",
      "\tCluster 0: 0.0572 of fraud on 115463 elements\n",
      "\tCluster 1: 0.6231 of fraud on 20221 elements\n",
      "\tCluster 2: 0.0120 of fraud on 41534 elements\n",
      "\tCluster 3: 0.2758 of fraud on 3988 elements\n",
      "\tCluster 4: 0.2741 of fraud on 103601 elements\n",
      "#########################################\n",
      "6 clusters\n",
      "\tCluster 0: 0.0196 of fraud on 20358 elements\n",
      "\tCluster 1: 0.0093 of fraud on 43001 elements\n",
      "\tCluster 2: 0.0833 of fraud on 165678 elements\n",
      "\tCluster 3: 86.0927 of fraud on 302 elements\n",
      "\tCluster 4: 0.1494 of fraud on 51541 elements\n",
      "\tCluster 5: 0.2292 of fraud on 3927 elements\n",
      "#########################################\n",
      "7 clusters\n",
      "\tCluster 0: 0.0120 of fraud on 41544 elements\n",
      "\tCluster 1: 0.0637 of fraud on 89487 elements\n",
      "\tCluster 2: 0.1211 of fraud on 19816 elements\n",
      "\tCluster 3: 83.9357 of fraud on 249 elements\n",
      "\tCluster 4: 0.0238 of fraud on 96787 elements\n",
      "\tCluster 5: 0.2295 of fraud on 3921 elements\n",
      "\tCluster 6: 0.5000 of fraud on 33003 elements\n",
      "#########################################\n",
      "8 clusters\n",
      "\tCluster 0: 0.8978 of fraud on 3230 elements\n",
      "\tCluster 1: 0.0490 of fraud on 89756 elements\n",
      "\tCluster 2: 0.2634 of fraud on 3797 elements\n",
      "\tCluster 3: 0.0129 of fraud on 38818 elements\n",
      "\tCluster 4: 0.6352 of fraud on 18733 elements\n",
      "\tCluster 5: 0.3541 of fraud on 46596 elements\n",
      "\tCluster 6: 0.1794 of fraud on 66903 elements\n",
      "\tCluster 7: 0.0000 of fraud on 16974 elements\n",
      "#########################################\n",
      "9 clusters\n",
      "\tCluster 0: 0.1913 of fraud on 32937 elements\n",
      "\tCluster 1: 0.0116 of fraud on 34416 elements\n",
      "\tCluster 2: 0.0176 of fraud on 22759 elements\n",
      "\tCluster 3: 0.0852 of fraud on 72762 elements\n",
      "\tCluster 4: 0.0720 of fraud on 82000 elements\n",
      "\tCluster 5: 0.0000 of fraud on 17125 elements\n",
      "\tCluster 6: 86.0927 of fraud on 302 elements\n",
      "\tCluster 7: 0.2207 of fraud on 3625 elements\n",
      "\tCluster 8: 0.1695 of fraud on 18881 elements\n",
      "#########################################\n",
      "10 clusters\n",
      "\tCluster 0: 0.0616 of fraud on 12996 elements\n",
      "\tCluster 1: 0.2197 of fraud on 3641 elements\n",
      "\tCluster 2: 0.0438 of fraud on 68501 elements\n",
      "\tCluster 3: 0.5163 of fraud on 30215 elements\n",
      "\tCluster 4: 0.1169 of fraud on 29937 elements\n",
      "\tCluster 5: 0.0062 of fraud on 32254 elements\n",
      "\tCluster 6: 0.0000 of fraud on 16812 elements\n",
      "\tCluster 7: 83.9357 of fraud on 249 elements\n",
      "\tCluster 8: 0.0278 of fraud on 72001 elements\n",
      "\tCluster 9: 0.1319 of fraud on 18201 elements\n"
     ]
    }
   ],
   "source": [
    "various_clusterings(X, y, 2, 10)"
   ]
  }
 ],
 "metadata": {
  "kernelspec": {
   "display_name": "Python 3",
   "language": "python",
   "name": "python3"
  },
  "language_info": {
   "codemirror_mode": {
    "name": "ipython",
    "version": 3
   },
   "file_extension": ".py",
   "mimetype": "text/x-python",
   "name": "python",
   "nbconvert_exporter": "python",
   "pygments_lexer": "ipython3",
   "version": "3.6.1"
  }
 },
 "nbformat": 4,
 "nbformat_minor": 2
}
